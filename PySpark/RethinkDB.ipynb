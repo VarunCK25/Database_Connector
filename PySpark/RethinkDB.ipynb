{
 "cells": [
  {
   "cell_type": "markdown",
   "metadata": {},
   "source": [
    "# Read / Insert and Update Operations to RethinkDB using Spark with Scala\n",
    "___"
   ]
  },
  {
   "cell_type": "markdown",
   "metadata": {},
   "source": [
    "### Importing Packages"
   ]
  },
  {
   "cell_type": "code",
   "execution_count": 15,
   "metadata": {},
   "outputs": [
    {
     "data": {
      "text/plain": [
       "lastException: Throwable = null\n"
      ]
     },
     "metadata": {},
     "output_type": "display_data"
    }
   ],
   "source": [
    "import org.apache.spark.sql.SparkSession\n",
    "import com.rethinkdb.RethinkDB\n",
    "import com.rethinkdb.net.Connection\n",
    "import play.api.libs.json._"
   ]
  },
  {
   "cell_type": "markdown",
   "metadata": {},
   "source": [
    "### Adding RethinkDB Dependancy Jars"
   ]
  },
  {
   "cell_type": "code",
   "execution_count": 16,
   "metadata": {},
   "outputs": [
    {
     "name": "stdout",
     "output_type": "stream",
     "text": [
      "Using cached version of rethinkdb-driver-2.3.3.jar\n",
      "Using cached version of play-json_2.11-2.6.0-M7.jar\n",
      "Using cached version of json-simple-1.1.1.jar\n"
     ]
    }
   ],
   "source": [
    "%AddJar https://repo1.maven.org/maven2/com/rethinkdb/rethinkdb-driver/2.3.3/rethinkdb-driver-2.3.3.jar\n",
    "%AddJar https://repo1.maven.org/maven2/com/typesafe/play/play-json_2.11/2.6.0-M7/play-json_2.11-2.6.0-M7.jar\n",
    "%AddJar https://repo1.maven.org/maven2/com/googlecode/json-simple/json-simple/1.1.1/json-simple-1.1.1.jar"
   ]
  },
  {
   "cell_type": "markdown",
   "metadata": {},
   "source": [
    "### Establishing Rethink Connection"
   ]
  },
  {
   "cell_type": "code",
   "execution_count": 17,
   "metadata": {},
   "outputs": [
    {
     "data": {
      "text/plain": [
       "r = com.rethinkdb.RethinkDB@19e1d37\n"
      ]
     },
     "metadata": {},
     "output_type": "display_data"
    },
    {
     "data": {
      "text/plain": [
       "com.rethinkdb.RethinkDB@19e1d37"
      ]
     },
     "execution_count": 17,
     "metadata": {},
     "output_type": "execute_result"
    }
   ],
   "source": [
    "val r: RethinkDB = RethinkDB.r"
   ]
  },
  {
   "cell_type": "code",
   "execution_count": 18,
   "metadata": {},
   "outputs": [
    {
     "data": {
      "text/plain": [
       "rethinkClient = com.rethinkdb.net.Connection@7535ba13\n"
      ]
     },
     "metadata": {},
     "output_type": "display_data"
    },
    {
     "data": {
      "text/plain": [
       "com.rethinkdb.net.Connection@7535ba13"
      ]
     },
     "execution_count": 18,
     "metadata": {},
     "output_type": "execute_result"
    }
   ],
   "source": [
    "val rethinkClient: Connection = r.connection().hostname(\"192.168.2.16\").port(28015).db(\"MetaData\").connect()"
   ]
  },
  {
   "cell_type": "markdown",
   "metadata": {},
   "source": [
    "### 1) Inserting Data to `SYS_CNTL` table"
   ]
  },
  {
   "cell_type": "code",
   "execution_count": 111,
   "metadata": {},
   "outputs": [
    {
     "data": {
      "text/plain": [
       "{deleted=0, inserted=1, unchanged=0, replaced=0, errors=0, skipped=0}"
      ]
     },
     "execution_count": 111,
     "metadata": {},
     "output_type": "execute_result"
    }
   ],
   "source": [
    "r.table(\"sys_cntl\")\n",
    " .insert(r.hashMap(\"id\", \"UPLOAD_BATCH_NO\")\n",
    " .`with`(\"payload\", r.hashMap(\"CNTL_KEY\", \"UPLOAD_BATCH_NO\")\n",
    "                     .`with`(\"CREATED_DATE\", \"\")\n",
    "                     .`with`(\"CREATED_USER\", \"Admin\")\n",
    "                     .`with`(\"ID\", 1)\n",
    "                     .`with`(\"INC_VALUE\", 1)\n",
    "                     .`with`(\"INIT_VALUE\", 1)\n",
    "                     .`with`(\"MAX_VALUE\", \"99999999\")\n",
    "                     .`with`(\"MODIFIED_DATE\", \"\")\n",
    "                     .`with`(\"MODIFIED_USER\", \"Admin\")\n",
    "                     .`with`(\"SEQ_NO\", 3368)\n",
    "        )\n",
    "      )\n",
    " .run(rethinkClient)\n",
    " .toString\n"
   ]
  },
  {
   "cell_type": "markdown",
   "metadata": {},
   "source": [
    "### 2) Reading the JSON value using the Key"
   ]
  },
  {
   "cell_type": "code",
   "execution_count": 112,
   "metadata": {},
   "outputs": [
    {
     "data": {
      "text/plain": [
       "jsonstr = {\"CNTL_KEY\":\"UPLOAD_BATCH_NO\",\"CREATED_DATE\":\"\",\"CREATED_USER\":\"Admin\",\"ID\":1,\"INC_VALUE\":1,\"INIT_VALUE\":1,\"MAX_VALUE\":\"99999999\",\"MODIFIED_DATE\":\"\",\"MODIFIED_USER\":\"Admin\",\"SEQ_NO\":3368}\n"
      ]
     },
     "metadata": {},
     "output_type": "display_data"
    },
    {
     "data": {
      "text/plain": [
       "{\"CNTL_KEY\":\"UPLOAD_BATCH_NO\",\"CREATED_DATE\":\"\",\"CREATED_USER\":\"Admin\",\"ID\":1,\"INC_VALUE\":1,\"INIT_VALUE\":1,\"MAX_VALUE\":\"99999999\",\"MODIFIED_DATE\":\"\",\"MODIFIED_USER\":\"Admin\",\"SEQ_NO\":3368}"
      ]
     },
     "execution_count": 112,
     "metadata": {},
     "output_type": "execute_result"
    }
   ],
   "source": [
    "val jsonstr = r.table(\"sys_cntl\").get(\"UPLOAD_BATCH_NO\").getField(\"payload\").toJson.run(rethinkClient).toString"
   ]
  },
  {
   "cell_type": "markdown",
   "metadata": {},
   "source": [
    "#### Convert String(JSON) to Spark DataFrame"
   ]
  },
  {
   "cell_type": "code",
   "execution_count": 113,
   "metadata": {},
   "outputs": [
    {
     "data": {
      "text/plain": [
       "sysCntlDf = [CNTL_KEY: string, CREATED_DATE: string ... 8 more fields]\n"
      ]
     },
     "metadata": {},
     "output_type": "display_data"
    },
    {
     "data": {
      "text/plain": [
       "[CNTL_KEY: string, CREATED_DATE: string ... 8 more fields]"
      ]
     },
     "execution_count": 113,
     "metadata": {},
     "output_type": "execute_result"
    }
   ],
   "source": [
    "var sysCntlDf = spark.read.json(Seq(jsonstr).toDS).toDF()"
   ]
  },
  {
   "cell_type": "markdown",
   "metadata": {},
   "source": [
    "### Show"
   ]
  },
  {
   "cell_type": "code",
   "execution_count": 114,
   "metadata": {},
   "outputs": [
    {
     "name": "stdout",
     "output_type": "stream",
     "text": [
      "+---------------+------------+------------+---+---------+----------+---------+-------------+-------------+------+\n",
      "|       CNTL_KEY|CREATED_DATE|CREATED_USER| ID|INC_VALUE|INIT_VALUE|MAX_VALUE|MODIFIED_DATE|MODIFIED_USER|SEQ_NO|\n",
      "+---------------+------------+------------+---+---------+----------+---------+-------------+-------------+------+\n",
      "|UPLOAD_BATCH_NO|            |       Admin|  1|        1|         1| 99999999|             |        Admin|  3368|\n",
      "+---------------+------------+------------+---+---------+----------+---------+-------------+-------------+------+\n",
      "\n"
     ]
    }
   ],
   "source": [
    "sysCntlDf.show()"
   ]
  },
  {
   "cell_type": "markdown",
   "metadata": {},
   "source": [
    "### 3) Updating Data"
   ]
  },
  {
   "cell_type": "code",
   "execution_count": 115,
   "metadata": {},
   "outputs": [
    {
     "data": {
      "text/plain": [
       "{deleted=0, inserted=0, unchanged=0, replaced=1, errors=0, skipped=0}"
      ]
     },
     "execution_count": 115,
     "metadata": {},
     "output_type": "execute_result"
    }
   ],
   "source": [
    "r.table(\"sys_cntl\").get(\"UPLOAD_BATCH_NO\").update(r.hashMap(\"payload\",r.hashMap(\"SEQ_NO\",3369))).run(rethinkClient).toString"
   ]
  },
  {
   "cell_type": "markdown",
   "metadata": {},
   "source": [
    "#### Verifying the Data"
   ]
  },
  {
   "cell_type": "code",
   "execution_count": 148,
   "metadata": {},
   "outputs": [
    {
     "data": {
      "text/plain": [
       "{MODIFIED_USER=Admin, INIT_VALUE=1, CNTL_KEY=UPLOAD_BATCH_NO, CREATED_DATE=, SEQ_NO=3369, INC_VALUE=1, CREATED_USER=Admin, ID=1, MAX_VALUE=99999999, MODIFIED_DATE=}"
      ]
     },
     "execution_count": 148,
     "metadata": {},
     "output_type": "execute_result"
    }
   ],
   "source": [
    "r.table(\"sys_cntl\").get(\"UPLOAD_BATCH_NO\").getField(\"payload\").run(rethinkClient).toString"
   ]
  },
  {
   "cell_type": "markdown",
   "metadata": {},
   "source": [
    "### Closing Spark Session"
   ]
  },
  {
   "cell_type": "code",
   "execution_count": 149,
   "metadata": {},
   "outputs": [],
   "source": [
    "spark.stop()"
   ]
  }
 ],
 "metadata": {
  "kernelspec": {
   "display_name": "Apache Toree - Scala",
   "language": "scala",
   "name": "apache_toree_scala"
  },
  "language_info": {
   "codemirror_mode": "text/x-scala",
   "file_extension": ".scala",
   "mimetype": "text/x-scala",
   "name": "scala",
   "pygments_lexer": "scala",
   "version": "2.11.12"
  }
 },
 "nbformat": 4,
 "nbformat_minor": 2
}
