{
 "cells": [
  {
   "cell_type": "markdown",
   "metadata": {},
   "source": [
    "# Read / Write Operations to SAP HANA using Spark with Scala\n",
    "___"
   ]
  },
  {
   "cell_type": "markdown",
   "metadata": {},
   "source": [
    "### Importing Packages"
   ]
  },
  {
   "cell_type": "code",
   "execution_count": 1,
   "metadata": {},
   "outputs": [],
   "source": [
    "import org.apache.spark.sql.{SparkSession,SaveMode}"
   ]
  },
  {
   "cell_type": "markdown",
   "metadata": {},
   "source": [
    "### Adding SAP HANA Dependancy Jar"
   ]
  },
  {
   "cell_type": "code",
   "execution_count": 2,
   "metadata": {},
   "outputs": [
    {
     "name": "stdout",
     "output_type": "stream",
     "text": [
      "Starting download from https://repo1.maven.org/maven2/com/sap/cloud/db/jdbc/ngdbc/2.4.63/ngdbc-2.4.63.jar\n",
      "Finished download of ngdbc-2.4.63.jar\n"
     ]
    }
   ],
   "source": [
    "%AddJar https://repo1.maven.org/maven2/com/sap/cloud/db/jdbc/ngdbc/2.4.63/ngdbc-2.4.63.jar"
   ]
  },
  {
   "cell_type": "markdown",
   "metadata": {},
   "source": [
    "### Creating Spark Session"
   ]
  },
  {
   "cell_type": "code",
   "execution_count": 3,
   "metadata": {},
   "outputs": [
    {
     "data": {
      "text/plain": [
       "spark = org.apache.spark.sql.SparkSession@77ad9a3e\n"
      ]
     },
     "metadata": {},
     "output_type": "display_data"
    },
    {
     "data": {
      "text/plain": [
       "org.apache.spark.sql.SparkSession@77ad9a3e"
      ]
     },
     "execution_count": 3,
     "metadata": {},
     "output_type": "execute_result"
    }
   ],
   "source": [
    "val spark = SparkSession.builder.appName(\"sap_hana\").getOrCreate()"
   ]
  },
  {
   "cell_type": "markdown",
   "metadata": {},
   "source": [
    "### SAP HANA Server Credentials"
   ]
  },
  {
   "cell_type": "code",
   "execution_count": 4,
   "metadata": {},
   "outputs": [
    {
     "data": {
      "text/plain": [
       "driver = com.sap.db.jdbc.Driver\n",
       "url = jdbc:sap://192.168.2.23:39017\n",
       "dbtable = Lima.SLI_ATTRIBUTES\n",
       "user = system\n",
       "password = Aline-12#\n"
      ]
     },
     "metadata": {},
     "output_type": "display_data"
    },
    {
     "data": {
      "text/plain": [
       "Aline-12#"
      ]
     },
     "execution_count": 4,
     "metadata": {},
     "output_type": "execute_result"
    }
   ],
   "source": [
    "val driver = \"com.sap.db.jdbc.Driver\"\n",
    "var url = \"jdbc:sap://192.168.2.23:39017\"\n",
    "var dbtable = \"Lima.SLI_ATTRIBUTES\"\n",
    "var user = \"system\"\n",
    "var password = \"Aline-12#\"\n",
    "//val database = \"LIMA\""
   ]
  },
  {
   "cell_type": "markdown",
   "metadata": {},
   "source": [
    "### Reading File"
   ]
  },
  {
   "cell_type": "code",
   "execution_count": 6,
   "metadata": {},
   "outputs": [
    {
     "data": {
      "text/plain": [
       "filedf = [Sales_Item_Id: string, Sales_Item_Description: string ... 4 more fields]\n"
      ]
     },
     "metadata": {},
     "output_type": "display_data"
    },
    {
     "data": {
      "text/plain": [
       "[Sales_Item_Id: string, Sales_Item_Description: string ... 4 more fields]"
      ]
     },
     "execution_count": 6,
     "metadata": {},
     "output_type": "execute_result"
    }
   ],
   "source": [
    "var filedf = spark.read.format(\"csv\")\n",
    "                   .options(Map((\"header\",\"true\"),(\"inferSchema\",\"true\"),(\"delimiter\",\"\\t\")))\n",
    "                   .load(\"../Resources/SI_attr.tab\")"
   ]
  },
  {
   "cell_type": "markdown",
   "metadata": {},
   "source": [
    "### Show"
   ]
  },
  {
   "cell_type": "code",
   "execution_count": 7,
   "metadata": {},
   "outputs": [
    {
     "name": "stdout",
     "output_type": "stream",
     "text": [
      "+------------------+----------------------+-----+-----------------------+----------------+--------------------------------+\n",
      "|     Sales_Item_Id|Sales_Item_Description|  GIC|Product_Lifecycle_State|Purchasing_Group|Average Standard Production Cost|\n",
      "+------------------+----------------------+-----+-----------------------+----------------+--------------------------------+\n",
      "|    IE2:15HP-RFU-7|           7GHZ HP ODU|07599|               OBSOLETE|            null|                             0.0|\n",
      "|    IE2:15HP-RFU-8|  1500HP RF UNIT, F...|07599|               OBSOLETE|            null|                             0.0|\n",
      "|IE2:15HP-SHORT-112|    1500HP SHORT, FGHZ|07599|               OBSOLETE|            null|                             0.0|\n",
      "|IE2:15HP-SHORT-137|     1500P SHORT, FGHZ|07599|               OBSOLETE|            null|                             0.0|\n",
      "| IE2:15HP-TERM-112|  1500HP 50 OHM TER...|09208|               OBSOLETE|            null|                             0.0|\n",
      "+------------------+----------------------+-----+-----------------------+----------------+--------------------------------+\n",
      "only showing top 5 rows\n",
      "\n"
     ]
    }
   ],
   "source": [
    "filedf.show(5)"
   ]
  },
  {
   "cell_type": "markdown",
   "metadata": {},
   "source": [
    "### Schema"
   ]
  },
  {
   "cell_type": "code",
   "execution_count": 8,
   "metadata": {},
   "outputs": [
    {
     "name": "stdout",
     "output_type": "stream",
     "text": [
      "root\n",
      " |-- Sales_Item_Id: string (nullable = true)\n",
      " |-- Sales_Item_Description: string (nullable = true)\n",
      " |-- GIC: string (nullable = true)\n",
      " |-- Product_Lifecycle_State: string (nullable = true)\n",
      " |-- Purchasing_Group: string (nullable = true)\n",
      " |-- Average Standard Production Cost: double (nullable = true)\n",
      "\n"
     ]
    }
   ],
   "source": [
    "filedf.printSchema"
   ]
  },
  {
   "cell_type": "markdown",
   "metadata": {},
   "source": [
    "### Reading table from SAP HANA"
   ]
  },
  {
   "cell_type": "code",
   "execution_count": 9,
   "metadata": {},
   "outputs": [
    {
     "data": {
      "text/plain": [
       "tableDF = [AVERAGE_STANDARD_PRODUCTION_COST: double, GIC: string ... 4 more fields]\n"
      ]
     },
     "metadata": {},
     "output_type": "display_data"
    },
    {
     "data": {
      "text/plain": [
       "[AVERAGE_STANDARD_PRODUCTION_COST: double, GIC: string ... 4 more fields]"
      ]
     },
     "execution_count": 9,
     "metadata": {},
     "output_type": "execute_result"
    }
   ],
   "source": [
    "val tableDF = spark.read\n",
    "    .format(\"jdbc\")\n",
    "    .option(\"url\", url)\n",
    "    .option(\"dbtable\", dbtable)\n",
    "    .option(\"user\", user)\n",
    "    .option(\"password\", password)\n",
    "    .option(\"driver\", driver)\n",
    "    .load()"
   ]
  },
  {
   "cell_type": "markdown",
   "metadata": {},
   "source": [
    "### Checking Schema of the table"
   ]
  },
  {
   "cell_type": "code",
   "execution_count": 10,
   "metadata": {},
   "outputs": [
    {
     "name": "stdout",
     "output_type": "stream",
     "text": [
      "root\n",
      " |-- AVERAGE_STANDARD_PRODUCTION_COST: double (nullable = true)\n",
      " |-- GIC: string (nullable = true)\n",
      " |-- SALES_ITEM_ID: string (nullable = true)\n",
      " |-- PURCHASING_GROUP: string (nullable = true)\n",
      " |-- SALES_ITEM_DESCRIPTION: string (nullable = true)\n",
      " |-- PRODUCT_LIFECYCLE_STATE: string (nullable = true)\n",
      "\n"
     ]
    }
   ],
   "source": [
    "tableDF.printSchema"
   ]
  },
  {
   "cell_type": "markdown",
   "metadata": {},
   "source": [
    "### Changing Dataframe columns same as table columns"
   ]
  },
  {
   "cell_type": "code",
   "execution_count": 11,
   "metadata": {},
   "outputs": [
    {
     "data": {
      "text/plain": [
       "filedf = [Sales_Item_Id: string, Sales_Item_Description: string ... 4 more fields]\n"
      ]
     },
     "metadata": {},
     "output_type": "display_data"
    },
    {
     "data": {
      "text/plain": [
       "[Sales_Item_Id: string, Sales_Item_Description: string ... 4 more fields]"
      ]
     },
     "execution_count": 11,
     "metadata": {},
     "output_type": "execute_result"
    }
   ],
   "source": [
    "filedf = filedf.withColumnRenamed(\"Average Standard Production Cost\",\"AVERAGE_STANDARD_PRODUCTION_COST\")"
   ]
  },
  {
   "cell_type": "markdown",
   "metadata": {},
   "source": [
    "### Converting all file dataframe columns to upper case"
   ]
  },
  {
   "cell_type": "code",
   "execution_count": 12,
   "metadata": {},
   "outputs": [
    {
     "data": {
      "text/plain": [
       "filedf = [SALES_ITEM_ID: string, SALES_ITEM_DESCRIPTION: string ... 4 more fields]\n"
      ]
     },
     "metadata": {},
     "output_type": "display_data"
    },
    {
     "data": {
      "text/plain": [
       "[SALES_ITEM_ID: string, SALES_ITEM_DESCRIPTION: string ... 4 more fields]"
      ]
     },
     "execution_count": 12,
     "metadata": {},
     "output_type": "execute_result"
    }
   ],
   "source": [
    "filedf = filedf.toDF(filedf.columns map (_.toUpperCase): _*)"
   ]
  },
  {
   "cell_type": "markdown",
   "metadata": {},
   "source": [
    "### Checking Table Count before writing"
   ]
  },
  {
   "cell_type": "code",
   "execution_count": 13,
   "metadata": {},
   "outputs": [
    {
     "data": {
      "text/plain": [
       "0"
      ]
     },
     "execution_count": 13,
     "metadata": {},
     "output_type": "execute_result"
    }
   ],
   "source": [
    "tableDF.count()"
   ]
  },
  {
   "cell_type": "markdown",
   "metadata": {},
   "source": [
    "### Writing to SAP HANA"
   ]
  },
  {
   "cell_type": "code",
   "execution_count": 14,
   "metadata": {},
   "outputs": [],
   "source": [
    "filedf.write\n",
    "  .format(\"jdbc\")\n",
    "  .options(Map((\"url\", url),(\"dbtable\", dbtable),(\"user\", user),(\"password\", password),(\"driver\", driver)))\n",
    "  .mode(SaveMode.Append)\n",
    "  .save()"
   ]
  },
  {
   "cell_type": "markdown",
   "metadata": {},
   "source": [
    "### Checking Table Count after writing"
   ]
  },
  {
   "cell_type": "code",
   "execution_count": 15,
   "metadata": {},
   "outputs": [
    {
     "data": {
      "text/plain": [
       "tableDF = [AVERAGE_STANDARD_PRODUCTION_COST: double, GIC: string ... 4 more fields]\n"
      ]
     },
     "metadata": {},
     "output_type": "display_data"
    },
    {
     "data": {
      "text/plain": [
       "[AVERAGE_STANDARD_PRODUCTION_COST: double, GIC: string ... 4 more fields]"
      ]
     },
     "execution_count": 15,
     "metadata": {},
     "output_type": "execute_result"
    }
   ],
   "source": [
    "val tableDF = spark.read\n",
    "    .format(\"jdbc\")\n",
    "    .option(\"url\", url)\n",
    "    .option(\"dbtable\", dbtable)\n",
    "    .option(\"user\", user)\n",
    "    .option(\"password\", password)\n",
    "    .option(\"driver\", driver)\n",
    "    .load()"
   ]
  },
  {
   "cell_type": "code",
   "execution_count": 16,
   "metadata": {},
   "outputs": [
    {
     "data": {
      "text/plain": [
       "361560"
      ]
     },
     "execution_count": 16,
     "metadata": {},
     "output_type": "execute_result"
    }
   ],
   "source": [
    "tableDF.count()"
   ]
  },
  {
   "cell_type": "markdown",
   "metadata": {},
   "source": [
    "### Closing Spark Session"
   ]
  },
  {
   "cell_type": "code",
   "execution_count": 17,
   "metadata": {},
   "outputs": [],
   "source": [
    "spark.stop()"
   ]
  }
 ],
 "metadata": {
  "kernelspec": {
   "display_name": "Apache Toree - Scala",
   "language": "scala",
   "name": "apache_toree_scala"
  },
  "language_info": {
   "codemirror_mode": "text/x-scala",
   "file_extension": ".scala",
   "mimetype": "text/x-scala",
   "name": "scala",
   "pygments_lexer": "scala",
   "version": "2.11.12"
  }
 },
 "nbformat": 4,
 "nbformat_minor": 2
}
